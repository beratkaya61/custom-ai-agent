{
 "cells": [
  {
   "cell_type": "code",
   "execution_count": null,
   "id": "c4600180",
   "metadata": {},
   "outputs": [],
   "source": [
    "import openai\n",
    "\n",
    "openai.api_key = \"your-api-key-here\"\n",
    "\n",
    "def generate_text(prompt):\n",
    "    try:\n",
    "        response = openai.Completion.create(\n",
    "            engine=\"text-davinci-003\",\n",
    "            prompt=prompt,\n",
    "            max_tokens=150,\n",
    "            n=1,\n",
    "            stop=None,\n",
    "            temperature=0.7\n",
    "        )\n",
    "        return response.choices[0].text.strip()\n",
    "    except Exception as e:\n",
    "        return f\"An error occurred: {e}\"\n",
    "    \n"
   ]
  },
  {
   "cell_type": "code",
   "execution_count": null,
   "id": "6111b6af",
   "metadata": {},
   "outputs": [],
   "source": [
    "#define interview question and give answer like interviewer\n",
    "\n",
    "# 🗣️ Example interview question and answer\n",
    "\n",
    "interview_question = \"Can you tell me about your experience with Python?\"\n",
    "\n",
    "interview_answer = \"\"\"My experience with Python is quite extensive, spanning several years across various domains. I've primarily leveraged Python for its versatility in data analysis, machine learning, and automation.\n",
    "\n",
    "In data analysis, I'm proficient with libraries like NumPy, Pandas, and Matplotlib. I've used them to clean, transform, analyze, and visualize complex datasets, extracting meaningful insights to inform decision-making.\n",
    "\n",
    "For machine learning, I've worked extensively with scikit-learn, TensorFlow, and Keras. This includes building and deploying models for tasks such as classification, regression, clustering, and natural language processing. I'm comfortable with the entire ML pipeline, from data preprocessing and feature engineering to model training, evaluation, and hyperparameter tuning.\n",
    "\n",
    "Beyond data science, I have strong experience in scripting and automation using Python. I've developed scripts for file manipulation, web scraping, API interactions, and automating repetitive tasks, significantly improving efficiency. I'm also familiar with object-oriented programming principles in Python and have experience with version control systems like Git.\n",
    "\n",
    "Overall, I'm confident in my ability to write clean, efficient, and well-documented Python code to solve a wide range of problems.\"\"\""
   ]
  },
  {
   "cell_type": "code",
   "execution_count": null,
   "id": "099d06f5",
   "metadata": {},
   "outputs": [],
   "source": [
    "# 🧠 Prompt the LLM to evaluate the answer\n",
    "system_prompt = \"\"\"You are a professional technical interviewer. \n",
    "You will be given a question and a candidate's answer.\n",
    "Evaluate the answer and provide a short comment on its quality.\n",
    "Then score it from 1 (poor) to 10 (excellent).\n",
    "\"\"\""
   ]
  },
  {
   "cell_type": "code",
   "execution_count": null,
   "id": "2d939d70",
   "metadata": {},
   "outputs": [],
   "source": [
    "response= openai.ChatCompletion.create(\n",
    "    model=\"gpt-4\",\n",
    "    messages=[\n",
    "        {\"role\": \"system\", \"content\": system_prompt},\n",
    "        {\"role\": \"user\", \"content\": f\"Question: {interview_question}\\n\\nAnswer: {interview_answer}\"}\n",
    "    ]\n",
    ")\n",
    "\n",
    "# Print the evaluation and score\n",
    "evaluation = response.choices[0].message.content\n",
    "print(\"Evaluation of the candidate's answer:\")\n",
    "print(evaluation)"
   ]
  },
  {
   "cell_type": "code",
   "execution_count": null,
   "id": "62aa4974",
   "metadata": {},
   "outputs": [],
   "source": []
  }
 ],
 "metadata": {
  "language_info": {
   "name": "python"
  }
 },
 "nbformat": 4,
 "nbformat_minor": 5
}
